{
 "cells": [
  {
   "cell_type": "markdown",
   "metadata": {},
   "source": [
    "# Numpy"
   ]
  },
  {
   "cell_type": "markdown",
   "metadata": {},
   "source": [
    "Материалы:\n",
    "* Макрушин С.В. \"Лекция 1: Библиотека Numpy\"\n",
    "* https://numpy.org/doc/stable/user/index.html\n",
    "* https://numpy.org/doc/stable/reference/index.html"
   ]
  },
  {
   "cell_type": "markdown",
   "metadata": {},
   "source": [
    "## Задачи для совместного разбора"
   ]
  },
  {
   "cell_type": "markdown",
   "metadata": {},
   "source": [
    "1. Сгенерировать двухмерный массив `arr` размерности (4, 7), состоящий из случайных действительных чисел, равномерно распределенных в диапазоне от 0 до 20. Нормализовать значения массива с помощью преобразования вида  $𝑎𝑥+𝑏$  так, что после нормализации максимальный элемент масcива будет равен 1.0, минимальный 0.0"
   ]
  },
  {
   "cell_type": "code",
   "execution_count": 1,
   "metadata": {},
   "outputs": [],
   "source": [
    "import numpy as np"
   ]
  },
  {
   "cell_type": "code",
   "execution_count": 2,
   "metadata": {},
   "outputs": [
    {
     "data": {
      "text/plain": [
       "array([[ 7, 16, 13, 14, 14, 12, 12],\n",
       "       [17, 15,  2,  4,  3,  5, 13],\n",
       "       [11, 14,  7,  4,  3, 12, 15],\n",
       "       [14,  3,  5,  2,  4, 15, 12]])"
      ]
     },
     "execution_count": 2,
     "metadata": {},
     "output_type": "execute_result"
    }
   ],
   "source": [
    "np.random.randint(0, 20, size = (4, 7))"
   ]
  },
  {
   "cell_type": "markdown",
   "metadata": {},
   "source": [
    "2. Создать матрицу 8 на 10 из случайных целых (используя модуль `numpy.random`) чисел из диапозона от 0 до 10 и найти в ней строку (ее индекс и вывести саму строку), в которой сумма значений минимальна."
   ]
  },
  {
   "cell_type": "code",
   "execution_count": 3,
   "metadata": {},
   "outputs": [
    {
     "data": {
      "text/plain": [
       "array([[5, 0, 4, 3, 4, 4, 4, 1, 0, 5],\n",
       "       [6, 2, 5, 7, 4, 8, 5, 5, 3, 0],\n",
       "       [6, 1, 1, 1, 8, 4, 7, 6, 3, 8],\n",
       "       [6, 0, 8, 0, 9, 5, 5, 5, 7, 4],\n",
       "       [1, 9, 3, 0, 4, 7, 9, 3, 0, 5],\n",
       "       [4, 5, 1, 9, 4, 5, 7, 6, 2, 6],\n",
       "       [0, 1, 5, 2, 9, 5, 9, 4, 6, 0],\n",
       "       [5, 0, 8, 9, 4, 8, 5, 3, 6, 7]])"
      ]
     },
     "execution_count": 3,
     "metadata": {},
     "output_type": "execute_result"
    }
   ],
   "source": [
    "np.random.randint(0, 10, size = (8, 10))"
   ]
  },
  {
   "cell_type": "markdown",
   "metadata": {},
   "source": [
    "3. Найти евклидово расстояние между двумя одномерными векторами одинаковой размерности."
   ]
  },
  {
   "cell_type": "code",
   "execution_count": 4,
   "metadata": {},
   "outputs": [],
   "source": [
    "import matplotlib.pyplot as pl\n",
    "from mpl_toolkits.mplot3d import Axes3D"
   ]
  },
  {
   "cell_type": "code",
   "execution_count": null,
   "metadata": {},
   "outputs": [],
   "source": []
  },
  {
   "cell_type": "markdown",
   "metadata": {},
   "source": [
    "4. Решить матричное уравнение `A*X*B=-C` - найти матрицу `X`. Где `A = [[-1, 2, 4], [-3, 1, 2], [-3, 0, 1]]`, `B=[[3, -1], [2, 1]]`, `C=[[7, 21], [11, 8], [8, 4]]`."
   ]
  },
  {
   "cell_type": "markdown",
   "metadata": {},
   "source": [
    "## Лабораторная работа №1"
   ]
  },
  {
   "cell_type": "markdown",
   "metadata": {},
   "source": [
    "Замечание: при решении данных задач не подразумевается использования циклов или генераторов Python, если в задании не сказано обратного. Решение должно опираться на использования функционала библиотеки `numpy`."
   ]
  },
  {
   "cell_type": "markdown",
   "metadata": {},
   "source": [
    "1. Файл `minutes_n_ingredients.csv` содержит информацию об идентификаторе рецепта, времени его выполнения в минутах и количестве необходимых ингредиентов. Считайте данные из этого файла в виде массива `numpy` типа `int32`, используя `np.loadtxt`. Выведите на экран первые 5 строк массива."
   ]
  },
  {
   "cell_type": "markdown",
   "metadata": {},
   "source": [
    "2. Вычислите среднее значение, минимум, максимум и медиану по каждому из столбцов, кроме первого."
   ]
  },
  {
   "cell_type": "markdown",
   "metadata": {},
   "source": [
    "3. Ограничьте сверху значения продолжительности выполнения рецепта значением квантиля $q_{0.75}$. "
   ]
  },
  {
   "cell_type": "markdown",
   "metadata": {},
   "source": [
    "4. Посчитайте, для скольких рецептов указана продолжительность, равная нулю. Замените для таких строк значение в данном столбце на 1."
   ]
  },
  {
   "cell_type": "markdown",
   "metadata": {},
   "source": [
    "5. Посчитайте, сколько уникальных рецептов находится в датасете."
   ]
  },
  {
   "cell_type": "markdown",
   "metadata": {},
   "source": [
    "6. Сколько и каких различных значений кол-ва ингредиентов присутвует в рецептах из датасета?"
   ]
  },
  {
   "cell_type": "markdown",
   "metadata": {},
   "source": [
    "7. Создайте версию массива, содержащую информацию только о рецептах, состоящих не более чем из 5 ингредиентов."
   ]
  },
  {
   "cell_type": "markdown",
   "metadata": {},
   "source": [
    "8. Для каждого рецепта посчитайте, сколько в среднем ингредиентов приходится на одну минуту рецепта. Найдите максимальное значение этой величины для всего датасета"
   ]
  },
  {
   "cell_type": "markdown",
   "metadata": {},
   "source": [
    "9. Вычислите среднее количество ингредиентов для топ-100 рецептов с наибольшей продолжительностью"
   ]
  },
  {
   "cell_type": "markdown",
   "metadata": {},
   "source": [
    "10. Выберите случайным образом и выведите информацию о 10 различных рецептах"
   ]
  },
  {
   "cell_type": "markdown",
   "metadata": {},
   "source": [
    "11. Выведите процент рецептов, кол-во ингредиентов в которых меньше среднего."
   ]
  },
  {
   "cell_type": "markdown",
   "metadata": {},
   "source": [
    "12. Назовем \"простым\" такой рецепт, длительность выполнения которого не больше 20 минут и кол-во ингредиентов в котором не больше 5. Создайте версию датасета с дополнительным столбцом, значениями которого являются 1, если рецепт простой, и 0 в противном случае."
   ]
  },
  {
   "cell_type": "markdown",
   "metadata": {},
   "source": [
    "13. Выведите процент \"простых\" рецептов в датасете"
   ]
  },
  {
   "cell_type": "markdown",
   "metadata": {},
   "source": [
    "14. Разделим рецепты на группы по следующему правилу. Назовем рецепты короткими, если их продолжительность составляет менее 10 минут; стандартными, если их продолжительность составляет более 10, но менее 20 минут; и длинными, если их продолжительность составляет не менее 20 минут. Создайте трехмерный массив, где нулевая ось отвечает за номер группы (короткий, стандартный или длинный рецепт), первая ось - за сам рецепт и вторая ось - за характеристики рецепта. Выберите максимальное количество рецептов из каждой группы таким образом, чтобы было возможно сформировать трехмерный массив. Выведите форму полученного массива."
   ]
  },
  {
   "cell_type": "markdown",
   "metadata": {},
   "source": [
    "Первое"
   ]
  },
  {
   "cell_type": "code",
   "execution_count": 5,
   "metadata": {},
   "outputs": [
    {
     "name": "stdout",
     "output_type": "stream",
     "text": [
      "[[127244     60     16]\n",
      " [ 23891     25      7]\n",
      " [ 94746     10      6]\n",
      " ...\n",
      " [498432     65     15]\n",
      " [370915      5      4]\n",
      " [ 81993    140     14]]\n"
     ]
    }
   ],
   "source": [
    "#orgArray = np.loadtxt(\"./data/minutes_n_ingredients.csv\", dtype = {'names': ('id_row', 'minutes', 'ingriD'),\n",
    "#                     'formats': ('i4', 'i4', 'i4')} , skiprows = 1, delimiter = ',')\n",
    "orgArray = np.loadtxt(\"./data/minutes_n_ingredients.csv\", dtype = 'int32', skiprows = 1, delimiter = ',')\n",
    "#orgArray.shape\n",
    "#np.sort(orgArray.view('i4,i4,i4'), order=['f0'], axis=0).view(np.int32)\\\n",
    "print(orgArray)"
   ]
  },
  {
   "cell_type": "markdown",
   "metadata": {},
   "source": [
    "Второе"
   ]
  },
  {
   "cell_type": "code",
   "execution_count": 6,
   "metadata": {},
   "outputs": [
    {
     "data": {
      "text/plain": [
       "array([40.,  9.])"
      ]
     },
     "execution_count": 6,
     "metadata": {},
     "output_type": "execute_result"
    }
   ],
   "source": [
    "chippedArray = np.delete(orgArray,0,1)\n",
    "orgMed = np.median(chippedArray, axis = 0)\n",
    "orgMed\n"
   ]
  },
  {
   "cell_type": "code",
   "execution_count": 7,
   "metadata": {},
   "outputs": [
    {
     "data": {
      "text/plain": [
       "array([2147483647,         39], dtype=int32)"
      ]
     },
     "execution_count": 7,
     "metadata": {},
     "output_type": "execute_result"
    }
   ],
   "source": [
    "orgMax = np.max(chippedArray, axis = 0)\n",
    "orgMax"
   ]
  },
  {
   "cell_type": "code",
   "execution_count": 8,
   "metadata": {},
   "outputs": [
    {
     "data": {
      "text/plain": [
       "array([0, 1], dtype=int32)"
      ]
     },
     "execution_count": 8,
     "metadata": {},
     "output_type": "execute_result"
    }
   ],
   "source": [
    "orgMin = np.min(chippedArray, axis = 0)\n",
    "orgMin"
   ]
  },
  {
   "cell_type": "markdown",
   "metadata": {},
   "source": [
    "Третье"
   ]
  },
  {
   "cell_type": "code",
   "execution_count": 22,
   "metadata": {},
   "outputs": [
    {
     "data": {
      "text/plain": [
       "array([[127244,     60,     16],\n",
       "       [ 23891,     25,      7],\n",
       "       [ 94746,     10,      6],\n",
       "       ...,\n",
       "       [498432,     65,     15],\n",
       "       [370915,      5,      4],\n",
       "       [ 81993,     65,     14]], dtype=int32)"
      ]
     },
     "execution_count": 22,
     "metadata": {},
     "output_type": "execute_result"
    }
   ],
   "source": [
    "quant75 = np.quantile(chippedArray,0.75,axis = 0)\n",
    "clippedArray = orgArray\n",
    "clippedArray[:, 1] = np.clip(orgArray[:, 1], None, quant75[0])\n",
    "clippedArray\n",
    "#np.max(clippedArray, axis = 0)"
   ]
  },
  {
   "cell_type": "markdown",
   "metadata": {},
   "source": [
    "Четвертое"
   ]
  },
  {
   "cell_type": "code",
   "execution_count": 10,
   "metadata": {},
   "outputs": [
    {
     "data": {
      "text/plain": [
       "479"
      ]
     },
     "execution_count": 10,
     "metadata": {},
     "output_type": "execute_result"
    }
   ],
   "source": [
    "#np.min(np.where(clippedArray == 0, 1, clippedArray),axis = 0)\n",
    "entDZero = clippedArray.shape[0] - np.count_nonzero(clippedArray[:, 1])\n",
    "entDZero"
   ]
  },
  {
   "cell_type": "code",
   "execution_count": 11,
   "metadata": {},
   "outputs": [
    {
     "data": {
      "text/plain": [
       "array([[127244,     60,     16],\n",
       "       [ 23891,     25,      7],\n",
       "       [ 94746,     10,      6],\n",
       "       ...,\n",
       "       [498432,     65,     15],\n",
       "       [370915,      5,      4],\n",
       "       [ 81993,     65,     14]], dtype=int32)"
      ]
     },
     "execution_count": 11,
     "metadata": {},
     "output_type": "execute_result"
    }
   ],
   "source": [
    "nonZeroArray = np.where(clippedArray == 0, 1, clippedArray)\n",
    "nonZeroArray"
   ]
  },
  {
   "cell_type": "markdown",
   "metadata": {},
   "source": [
    "Пятое"
   ]
  },
  {
   "cell_type": "code",
   "execution_count": 12,
   "metadata": {},
   "outputs": [
    {
     "data": {
      "text/plain": [
       "100000"
      ]
     },
     "execution_count": 12,
     "metadata": {},
     "output_type": "execute_result"
    }
   ],
   "source": [
    "#unique pairs np.unique(nonZeroArray[:, 1:3].view('i4,i4')).shape\n",
    "#np.unique(orgArray[:, 1:3].view('i4,i4')).shape\n",
    "#nonZeroArray[:, 1:3].view('i4,i4')\n",
    "uniqueIDA = np.unique(nonZeroArray[:, 0]).shape[0]\n",
    "uniqueIDA"
   ]
  },
  {
   "cell_type": "markdown",
   "metadata": {},
   "source": [
    "Шестое"
   ]
  },
  {
   "cell_type": "code",
   "execution_count": 13,
   "metadata": {},
   "outputs": [
    {
     "data": {
      "text/plain": [
       "array([ 1,  2,  3,  4,  5,  6,  7,  8,  9, 10, 11, 12, 13, 14, 15, 16, 17,\n",
       "       18, 19, 20, 21, 22, 23, 24, 25, 26, 27, 28, 29, 30, 31, 32, 33, 34,\n",
       "       35, 37, 39], dtype=int32)"
      ]
     },
     "execution_count": 13,
     "metadata": {},
     "output_type": "execute_result"
    }
   ],
   "source": [
    "uniqueIngr = np.unique(nonZeroArray[:, 2])\n",
    "uniqueIngr"
   ]
  },
  {
   "cell_type": "code",
   "execution_count": 14,
   "metadata": {},
   "outputs": [
    {
     "data": {
      "text/plain": [
       "37"
      ]
     },
     "execution_count": 14,
     "metadata": {},
     "output_type": "execute_result"
    }
   ],
   "source": [
    "uniqueIngrA = uniqueIngr.shape[0]\n",
    "uniqueIngrA"
   ]
  },
  {
   "cell_type": "markdown",
   "metadata": {},
   "source": [
    "Седьмое"
   ]
  },
  {
   "cell_type": "code",
   "execution_count": 15,
   "metadata": {},
   "outputs": [
    {
     "data": {
      "text/plain": [
       "array([[ 24802,     15,      1],\n",
       "       [134711,     10,      1],\n",
       "       [153034,     35,      1],\n",
       "       ...,\n",
       "       [536063,     35,      5],\n",
       "       [536729,     10,      5],\n",
       "       [537485,     45,      5]], dtype=int32)"
      ]
     },
     "execution_count": 15,
     "metadata": {},
     "output_type": "execute_result"
    }
   ],
   "source": [
    "sortedArray = np.sort(nonZeroArray.view('i4,i4,i4'), order=['f2'], axis=0).view(np.int32)\n",
    "num5 = np.extract(sortedArray[:, 2] <= 5, sortedArray[:, 2]).shape[0]\n",
    "inG5Array = sortedArray[0:num5]\n",
    "inG5Array"
   ]
  },
  {
   "cell_type": "markdown",
   "metadata": {},
   "source": [
    "Восьмое"
   ]
  },
  {
   "cell_type": "code",
   "execution_count": 16,
   "metadata": {},
   "outputs": [
    {
     "data": {
      "text/plain": [
       "array([0.26666667, 0.28      , 0.6       , ..., 0.23076923, 0.8       ,\n",
       "       0.21538462])"
      ]
     },
     "execution_count": 16,
     "metadata": {},
     "output_type": "execute_result"
    }
   ],
   "source": [
    "effArray = nonZeroArray[:, 2]/nonZeroArray[:, 1]\n",
    "effArray"
   ]
  },
  {
   "cell_type": "code",
   "execution_count": 17,
   "metadata": {},
   "outputs": [
    {
     "data": {
      "text/plain": [
       "24.0"
      ]
     },
     "execution_count": 17,
     "metadata": {},
     "output_type": "execute_result"
    }
   ],
   "source": [
    "maxEff = np.max(effArray)\n",
    "maxEff"
   ]
  },
  {
   "cell_type": "markdown",
   "metadata": {},
   "source": [
    "Девятое"
   ]
  },
  {
   "cell_type": "code",
   "execution_count": 18,
   "metadata": {},
   "outputs": [
    {
     "data": {
      "text/plain": [
       "13.11"
      ]
     },
     "execution_count": 18,
     "metadata": {},
     "output_type": "execute_result"
    }
   ],
   "source": [
    "sortedByTimeArray = np.sort(nonZeroArray.view('i4,i4,i4'), order=['f1'], axis=0).view(np.int32)\n",
    "top100TimeArray = sortedByTimeArray[sortedByTimeArray.shape[0]-100:sortedByTimeArray.shape[0]]\n",
    "meanTop100 = np.mean(top100TimeArray[:, 2])\n",
    "meanTop100"
   ]
  },
  {
   "cell_type": "markdown",
   "metadata": {},
   "source": [
    "Десятое"
   ]
  },
  {
   "cell_type": "code",
   "execution_count": 20,
   "metadata": {},
   "outputs": [
    {
     "name": "stdout",
     "output_type": "stream",
     "text": [
      "[[ 42428     65     11]\n",
      " [504498     65     12]\n",
      " [126307     60     15]\n",
      " [ 54169     40     10]\n",
      " [ 74573     10      6]\n",
      " [468204     25      7]\n",
      " [149471     65     15]\n",
      " [ 67538     60      9]\n",
      " [407964     65     14]\n",
      " [321982     65      8]]\n"
     ]
    }
   ],
   "source": [
    "indices = np.random.choice(orgArray.shape[0], size=10, replace=False)\n",
    "print(orgArray[indices])\n"
   ]
  },
  {
   "cell_type": "markdown",
   "metadata": {},
   "source": [
    "Одиннадцатое"
   ]
  },
  {
   "cell_type": "code",
   "execution_count": 21,
   "metadata": {},
   "outputs": [
    {
     "name": "stdout",
     "output_type": "stream",
     "text": [
      "58.802 %\n"
     ]
    }
   ],
   "source": [
    "meanInG = np.mean(sortedArray[:, 2])\n",
    "numMeanIng = np.extract(sortedArray[:, 2] < meanInG, sortedArray[:, 2]).shape[0]\n",
    "percentMeanIng = numMeanIng/sortedArray.shape[0]*100\n",
    "print(percentMeanIng,\"%\")"
   ]
  },
  {
   "cell_type": "markdown",
   "metadata": {},
   "source": [
    "Двенадцатое"
   ]
  },
  {
   "cell_type": "code",
   "execution_count": 28,
   "metadata": {},
   "outputs": [
    {
     "data": {
      "text/plain": [
       "array([[127244,     60,     16,      0],\n",
       "       [ 23891,     25,      7,      0],\n",
       "       [ 94746,     10,      6,      0],\n",
       "       ...,\n",
       "       [498432,     65,     15,      0],\n",
       "       [370915,      5,      4,      1],\n",
       "       [ 81993,     65,     14,      0]], dtype=int32)"
      ]
     },
     "execution_count": 28,
     "metadata": {},
     "output_type": "execute_result"
    }
   ],
   "source": [
    "simple_recipe = np.zeros((orgArray.shape[0], orgArray.shape[1] + 1), dtype=np.int32)\n",
    "simple_recipe[:, :-1] = orgArray\n",
    "simple_recipe[:, -1] = ((orgArray[:, 1] <= 20) & (orgArray[:, 2] <= 5)).astype(np.int32)\n",
    "simple_recipe"
   ]
  },
  {
   "cell_type": "markdown",
   "metadata": {},
   "source": [
    "Тринадцатое"
   ]
  },
  {
   "cell_type": "code",
   "execution_count": 29,
   "metadata": {},
   "outputs": [
    {
     "name": "stdout",
     "output_type": "stream",
     "text": [
      "Процент \"простых\" рецептов в датасете: 9.55%\n"
     ]
    }
   ],
   "source": [
    "simple_recipe_count = np.sum(simple_recipe[:, -1])\n",
    "total_count = simple_recipe.shape[0]\n",
    "simple_recipe_percent = simple_recipe_count / total_count * 100\n",
    "print(f'Процент \"простых\" рецептов в датасете: {simple_recipe_percent:.2f}%')"
   ]
  },
  {
   "cell_type": "markdown",
   "metadata": {},
   "source": [
    "Четырнадцатое"
   ]
  },
  {
   "cell_type": "code",
   "execution_count": 31,
   "metadata": {},
   "outputs": [
    {
     "name": "stdout",
     "output_type": "stream",
     "text": [
      "Форма полученного массива: (3, 7588, 3)\n"
     ]
    }
   ],
   "source": [
    "short_recipes = orgArray[orgArray[:, 1] < 10]\n",
    "standard_recipes = orgArray[(orgArray[:, 1] >= 10) & (orgArray[:, 1] <= 20)]\n",
    "long_recipes = orgArray[orgArray[:, 1] > 20]\n",
    "\n",
    "# Выбираем максимальное количество рецептов из каждой группы\n",
    "max_count = min(short_recipes.shape[0], standard_recipes.shape[0], long_recipes.shape[0])\n",
    "short_recipes = short_recipes[:max_count]\n",
    "standard_recipes = standard_recipes[:max_count]\n",
    "long_recipes = long_recipes[:max_count]\n",
    "\n",
    "# Создаем трехмерный массив\n",
    "recipes = np.array([short_recipes, standard_recipes, long_recipes])\n",
    "\n",
    "# Выводим форму полученного массива\n",
    "print(f'Форма полученного массива: {recipes.shape}')"
   ]
  },
  {
   "cell_type": "code",
   "execution_count": null,
   "metadata": {},
   "outputs": [],
   "source": []
  }
 ],
 "metadata": {
  "kernelspec": {
   "display_name": "Python 3 (ipykernel)",
   "language": "python",
   "name": "python3"
  },
  "language_info": {
   "codemirror_mode": {
    "name": "ipython",
    "version": 3
   },
   "file_extension": ".py",
   "mimetype": "text/x-python",
   "name": "python",
   "nbconvert_exporter": "python",
   "pygments_lexer": "ipython3",
   "version": "3.11.3"
  }
 },
 "nbformat": 4,
 "nbformat_minor": 4
}
